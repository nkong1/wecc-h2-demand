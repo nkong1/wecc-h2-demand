{
 "cells": [
  {
   "cell_type": "markdown",
   "id": "231d39cf",
   "metadata": {},
   "source": [
    "This script retrieves data on existing hydrogen plants and calculates their annual hydrogen production (using 2022 data from the EPA GHGRP). Subpart P Hydrogen Production emissions (in metric tons) are converted to hydrogen production totals (in kg) using the ratio of 9.0 kg CO2 per kg H2 (taken from https://pubs.acs.org/doi/full/10.1021/acs.est.8b06197).\n",
    "\n",
    "Outputs to a folder titled 'wecc_existing_h2_plants' under the industry processing outputs. The output .csv file can be directly pasted into the industry model inputs folder."
   ]
  },
  {
   "cell_type": "code",
   "execution_count": 5,
   "id": "14a32a6f",
   "metadata": {},
   "outputs": [],
   "source": [
    "import pandas as pd\n",
    "import geopandas as gpd\n",
    "from pathlib import Path\n",
    "\n",
    "# Constant conversion\n",
    "kg_CO2_per_kg_h2 = 9.0\n",
    "\n",
    "# File paths\n",
    "base_path = Path.cwd()\n",
    "\n",
    "inputs_path = base_path / 'industry_processing_inputs'\n",
    "load_zone_path = inputs_path / 'load_zones/load_zones.shp'\n",
    "ghgrp_path =  inputs_path / 'ghgrp_data_2022.xlsx'\n",
    "\n",
    "output_path = base_path / 'industry_processing_outputs' / 'wecc_existing_h2_plants'\n",
    "output_path.mkdir(parents=True, exist_ok=True)"
   ]
  },
  {
   "cell_type": "code",
   "execution_count": 6,
   "id": "4e818b69",
   "metadata": {},
   "outputs": [],
   "source": [
    "\n",
    "# Read and filter hydrogen production sites\n",
    "ghgrp_df = pd.read_excel(ghgrp_path, header=3)\n",
    "hydrogen_df = ghgrp_df[~ghgrp_df['Hydrogen Production'].isna()]\n",
    "\n",
    "# Convert to GeoDataFrame\n",
    "hydrogen_gdf = gpd.GeoDataFrame(\n",
    "    hydrogen_df,\n",
    "    geometry=gpd.points_from_xy(hydrogen_df['Longitude'], hydrogen_df['Latitude']),\n",
    "    crs=\"EPSG:4326\"\n",
    ")\n",
    "\n",
    "# Read load zones and ensure same CRS\n",
    "load_zones = gpd.read_file(load_zone_path).to_crs(\"EPSG:4326\")\n",
    "\n",
    "# Spatial join to find hydrogen sites in load zones\n",
    "wecc_hydrogen_df = gpd.sjoin(hydrogen_gdf, load_zones, how=\"inner\", predicate=\"intersects\")\n",
    "\n",
    "# Estimate 2023 hydrogen demand from each facility by converting from mt CO2 to kg H2\n",
    "wecc_hydrogen_df['hydrogen_demand_kg'] = wecc_hydrogen_df['Hydrogen Production'] * 1000 / kg_CO2_per_kg_h2\n",
    "\n",
    "wecc_hydrogen_df.to_file(output_path / 'existing_h2_plants_wecc_2022.gpkg',driver='GPKG')\n",
    "\n",
    "wecc_hydrogen_df = wecc_hydrogen_df.drop(columns=['geometry', 'index_right'])\n",
    "\n",
    "wecc_hydrogen_df.to_csv(output_path / 'wecc_existing_h2_plants_2022.csv',index=False)"
   ]
  },
  {
   "cell_type": "code",
   "execution_count": null,
   "id": "78de2f8d",
   "metadata": {},
   "outputs": [],
   "source": []
  }
 ],
 "metadata": {
  "kernelspec": {
   "display_name": "base",
   "language": "python",
   "name": "python3"
  },
  "language_info": {
   "codemirror_mode": {
    "name": "ipython",
    "version": 3
   },
   "file_extension": ".py",
   "mimetype": "text/x-python",
   "name": "python",
   "nbconvert_exporter": "python",
   "pygments_lexer": "ipython3",
   "version": "3.12.2"
  }
 },
 "nbformat": 4,
 "nbformat_minor": 5
}
